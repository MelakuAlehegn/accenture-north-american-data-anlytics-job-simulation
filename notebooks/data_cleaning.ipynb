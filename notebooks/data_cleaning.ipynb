{
 "cells": [
  {
   "cell_type": "markdown",
   "metadata": {},
   "source": [
    "### 1. Load the Data"
   ]
  },
  {
   "cell_type": "code",
   "execution_count": 83,
   "metadata": {},
   "outputs": [],
   "source": [
    "import pandas as pd\n",
    "import os\n",
    "\n",
    "# Define the base path for the data folder\n",
    "data_folder = os.path.join(os.path.dirname(os.getcwd()), 'data')\n",
    "\n",
    "# Load the CSV files\n",
    "content_df = pd.read_csv(os.path.join(data_folder, 'Content.csv'))\n",
    "reaction_df = pd.read_csv(os.path.join(data_folder, 'Reactions.csv'))\n",
    "reaction_types_df = pd.read_csv(os.path.join(data_folder, 'ReactionTypes.csv'))\n",
    "reaction_df.rename(columns={'Type': 'Content Type'}, inplace=True)\n",
    "reaction_types_df.rename(columns={'Type': 'Reaction Type'}, inplace=True)\n",
    "reaction_types_df.rename(columns={'Reaction Type': 'Content Type'}, inplace=True)"
   ]
  },
  {
   "cell_type": "markdown",
   "metadata": {},
   "source": [
    "### 2. Remove Rows with Missing Values"
   ]
  },
  {
   "cell_type": "code",
   "execution_count": 84,
   "metadata": {},
   "outputs": [
    {
     "name": "stdout",
     "output_type": "stream",
     "text": [
      "Missing values after standardization:Reaction\n",
      "Content ID        0\n",
      "Content Type    980\n",
      "Datetime          0\n",
      "dtype: int64\n",
      "Missing values after cleaning:Reaction\n",
      "Content ID      0\n",
      "Content Type    0\n",
      "Datetime        0\n",
      "dtype: int64\n",
      "Missing values after standardization (Content):\n",
      "Content ID    0\n",
      "Category      0\n",
      "dtype: int64\n",
      "Missing values after cleaning (Content):\n",
      "Content ID    0\n",
      "Category      0\n",
      "dtype: int64\n",
      "Missing values after standardization (ReactionTypes):\n",
      "Content Type    0\n",
      "Score           0\n",
      "dtype: int64\n",
      "Missing values after cleaning (ReactionTypes):\n",
      "Content Type    0\n",
      "Score           0\n",
      "dtype: int64\n"
     ]
    }
   ],
   "source": [
    "import numpy as np\n",
    "\n",
    "# Clean missing values in Reaction dataset\n",
    "reaction_df.replace(['', ' ', 'null', 'N/A', '-'], np.nan, inplace=True)\n",
    "\n",
    "print(\"Missing values after standardization:Reaction\")\n",
    "print(reaction_df.isnull().sum())\n",
    "\n",
    "reaction_df_cleaned = reaction_df.dropna()\n",
    "\n",
    "print(\"Missing values after cleaning:Reaction\")\n",
    "print(reaction_df_cleaned.isnull().sum())\n",
    "\n",
    "# Clean missing values in Content dataset\n",
    "content_df.replace(['', ' ', 'null', 'N/A', '-'], np.nan, inplace=True)\n",
    "\n",
    "print(\"Missing values after standardization (Content):\")\n",
    "print(content_df.isnull().sum())\n",
    "\n",
    "content_df_cleaned = content_df.dropna()\n",
    "\n",
    "print(\"Missing values after cleaning (Content):\")\n",
    "print(content_df_cleaned.isnull().sum())\n",
    "\n",
    "# Clean missing values in ReactionTypes dataset\n",
    "reaction_types_df.replace(['', ' ', 'null', 'N/A', '-'], np.nan, inplace=True)\n",
    "\n",
    "print(\"Missing values after standardization (ReactionTypes):\")\n",
    "print(reaction_types_df.isnull().sum())\n",
    "\n",
    "reaction_types_df_cleaned = reaction_types_df.dropna()\n",
    "\n",
    "print(\"Missing values after cleaning (ReactionTypes):\")\n",
    "print(reaction_types_df_cleaned.isnull().sum())"
   ]
  },
  {
   "cell_type": "markdown",
   "metadata": {},
   "source": [
    "### 3. Change Data Types"
   ]
  },
  {
   "cell_type": "code",
   "execution_count": 85,
   "metadata": {},
   "outputs": [],
   "source": [
    "# Convert 'Datetime' to datetime format\n",
    "reaction_df['Datetime'] = pd.to_datetime(reaction_df['Datetime'])\n",
    "\n",
    "# Ensure 'Score' is numeric\n",
    "reaction_types_df['Score'] = pd.to_numeric(reaction_types_df['Score'], errors='coerce')"
   ]
  },
  {
   "cell_type": "markdown",
   "metadata": {},
   "source": [
    "### 4. Remove Irrelevant Columns"
   ]
  },
  {
   "cell_type": "code",
   "execution_count": 87,
   "metadata": {},
   "outputs": [],
   "source": [
    "# Keep relevant columns\n",
    "content_df = content_df[['Content ID', 'Category']]\n",
    "reaction_df = reaction_df[['Content ID', 'Content Type', 'Datetime']]\n",
    "reaction_types_df = reaction_types_df[['Content Type', 'Score']]"
   ]
  },
  {
   "cell_type": "markdown",
   "metadata": {},
   "source": [
    "### 5. Remove quotes marks from categories"
   ]
  },
  {
   "cell_type": "code",
   "execution_count": 88,
   "metadata": {},
   "outputs": [],
   "source": [
    "# Remove both single and double quotation marks from the 'Category' column\n",
    "content_df['Category'] = content_df['Category'].str.replace('\"', '', regex=False)  # Remove double quotes\n",
    "content_df['Category'] = content_df['Category'].str.replace(\"'\", '', regex=False)  # Remove single quotes"
   ]
  },
  {
   "cell_type": "code",
   "execution_count": 89,
   "metadata": {},
   "outputs": [
    {
     "name": "stdout",
     "output_type": "stream",
     "text": [
      "Index(['Content ID', 'Category'], dtype='object')\n",
      "Index(['Content ID', 'Content Type', 'Datetime'], dtype='object')\n",
      "Index(['Content Type', 'Score'], dtype='object')\n",
      "0          Studying\n",
      "1    healthy eating\n",
      "2    healthy eating\n",
      "3        technology\n",
      "4              food\n",
      "Name: Category, dtype: object\n"
     ]
    }
   ],
   "source": [
    "print(content_df.columns)\n",
    "print(reaction_df.columns)\n",
    "print(reaction_types_df.columns)\n",
    "print(content_df['Category'].head())"
   ]
  },
  {
   "cell_type": "markdown",
   "metadata": {},
   "source": [
    "### 6. Save the updated files"
   ]
  },
  {
   "cell_type": "code",
   "execution_count": 90,
   "metadata": {},
   "outputs": [],
   "source": [
    "# Save the updated content_df to the CSV file in the 'data' folder\n",
    "content_df.to_csv(os.path.join(data_folder, 'Content.csv'), index=False)\n",
    "\n",
    "# Save the updated reaction_df to the same CSV file, replacing the existing one\n",
    "reaction_df.to_csv(os.path.join(data_folder, 'Reactions.csv'), index=False)\n",
    "\n",
    "# Save the updated reaction_types_df to the same CSV file, replacing the existing one\n",
    "reaction_types_df.to_csv(os.path.join(data_folder, 'ReactionTypes.csv'), index=False)"
   ]
  },
  {
   "cell_type": "markdown",
   "metadata": {},
   "source": [
    "### 7. Merging the Datasets"
   ]
  },
  {
   "cell_type": "code",
   "execution_count": 91,
   "metadata": {},
   "outputs": [],
   "source": [
    "# Merge Reaction with Content\n",
    "merged_df = reaction_df.merge(content_df, on='Content ID', how='inner')\n",
    "\n",
    "# Merge the result with Reaction Types\n",
    "final_df = merged_df.merge(reaction_types_df, on='Content Type', how='inner')"
   ]
  },
  {
   "cell_type": "code",
   "execution_count": 94,
   "metadata": {},
   "outputs": [
    {
     "name": "stdout",
     "output_type": "stream",
     "text": [
      "                                 Content ID Reaction Type            Datetime  \\\n",
      "24568  435007a5-6261-4d8b-b0a4-55fdc189754b         adore 2020-10-04 22:26:33   \n",
      "24569  435007a5-6261-4d8b-b0a4-55fdc189754b         adore 2020-09-18 10:50:50   \n",
      "24570  4e4c9690-c013-4ee7-9e66-943d8cbd27b7         adore 2020-10-31 03:58:44   \n",
      "24571  4e4c9690-c013-4ee7-9e66-943d8cbd27b7         adore 2020-06-25 15:12:29   \n",
      "24572  4e4c9690-c013-4ee7-9e66-943d8cbd27b7         adore 2020-12-17 16:32:57   \n",
      "\n",
      "       Category  Score  \n",
      "24568  veganism     72  \n",
      "24569  veganism     72  \n",
      "24570   culture     72  \n",
      "24571   culture     72  \n",
      "24572   culture     72  \n"
     ]
    }
   ],
   "source": [
    "final_df.rename(columns={'Content Type': 'Reaction Type'}, inplace=True)\n",
    "print(final_df.tail())"
   ]
  },
  {
   "cell_type": "markdown",
   "metadata": {},
   "source": [
    "### 8. Calculate Total Scores for Each Category"
   ]
  },
  {
   "cell_type": "code",
   "execution_count": 95,
   "metadata": {},
   "outputs": [],
   "source": [
    "# Group by Category and sum the scores\n",
    "category_scores = final_df.groupby('Category')['Score'].sum().reset_index()"
   ]
  },
  {
   "cell_type": "code",
   "execution_count": 96,
   "metadata": {},
   "outputs": [],
   "source": [
    "# Rename the column for clarity\n",
    "category_scores.rename(columns={'Score': 'Total Score'}, inplace=True)"
   ]
  },
  {
   "cell_type": "markdown",
   "metadata": {},
   "source": [
    "### 9. Extract the Top 5 Categories"
   ]
  },
  {
   "cell_type": "code",
   "execution_count": 97,
   "metadata": {},
   "outputs": [],
   "source": [
    "# Sort by Total Score and get the top 5\n",
    "top_categories = category_scores.sort_values(by='Total Score', ascending=False).head(5)"
   ]
  },
  {
   "cell_type": "code",
   "execution_count": 98,
   "metadata": {},
   "outputs": [
    {
     "name": "stdout",
     "output_type": "stream",
     "text": [
      "          Category  Total Score\n",
      "13         animals        71242\n",
      "20  healthy eating        69067\n",
      "25      technology        68521\n",
      "22         science        66549\n",
      "15         culture        64952\n"
     ]
    }
   ],
   "source": [
    "print(top_categories)"
   ]
  },
  {
   "cell_type": "markdown",
   "metadata": {},
   "source": [
    "### 10. Save the Final Dataset and Top Categories"
   ]
  },
  {
   "cell_type": "code",
   "execution_count": 99,
   "metadata": {},
   "outputs": [],
   "source": [
    "# Save the final merged dataset\n",
    "final_df.to_csv(os.path.join(data_folder, 'Final_Dataset.csv'), index=False)\n",
    "\n",
    "# Save the top 5 categories\n",
    "top_categories.to_csv(os.path.join(data_folder, 'Top_5_Categories.csv'), index=False)"
   ]
  }
 ],
 "metadata": {
  "kernelspec": {
   "display_name": "Python 3",
   "language": "python",
   "name": "python3"
  },
  "language_info": {
   "codemirror_mode": {
    "name": "ipython",
    "version": 3
   },
   "file_extension": ".py",
   "mimetype": "text/x-python",
   "name": "python",
   "nbconvert_exporter": "python",
   "pygments_lexer": "ipython3",
   "version": "3.10.12"
  }
 },
 "nbformat": 4,
 "nbformat_minor": 2
}
